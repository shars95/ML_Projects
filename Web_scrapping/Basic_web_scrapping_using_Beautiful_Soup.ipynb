{
 "cells": [
  {
   "cell_type": "code",
   "execution_count": 1,
   "metadata": {},
   "outputs": [],
   "source": [
    "import pandas as pd\n",
    "import numpy as np"
   ]
  },
  {
   "cell_type": "code",
   "execution_count": 2,
   "metadata": {},
   "outputs": [],
   "source": [
    "import requests"
   ]
  },
  {
   "cell_type": "code",
   "execution_count": 3,
   "metadata": {},
   "outputs": [],
   "source": [
    "url = 'https://jupyter.org/'\n",
    "\n",
    "req = requests.Request('GET', url)\n",
    "req.headers['User-Agent'] = 'Mozilla/5.0'\n",
    "\n",
    "req = req.prepare()\n",
    "\n"
   ]
  },
  {
   "cell_type": "code",
   "execution_count": 4,
   "metadata": {},
   "outputs": [],
   "source": [
    "with requests.Session() as sess:\n",
    "    page = sess.send(req)"
   ]
  },
  {
   "cell_type": "code",
   "execution_count": 5,
   "metadata": {},
   "outputs": [],
   "source": [
    "page_html=page.text"
   ]
  },
  {
   "cell_type": "code",
   "execution_count": 6,
   "metadata": {},
   "outputs": [],
   "source": [
    "from bs4 import BeautifulSoup"
   ]
  },
  {
   "cell_type": "code",
   "execution_count": null,
   "metadata": {},
   "outputs": [],
   "source": [
    "print(BeautifulSoup(page_html, 'html.parser').prettify())"
   ]
  },
  {
   "cell_type": "code",
   "execution_count": 8,
   "metadata": {},
   "outputs": [],
   "source": [
    "from IPython.display import HTML"
   ]
  },
  {
   "cell_type": "code",
   "execution_count": null,
   "metadata": {},
   "outputs": [],
   "source": [
    "HTML(page_html)"
   ]
  },
  {
   "cell_type": "markdown",
   "metadata": {},
   "source": [
    "Let's compare this to the live website, which can be opened in Jupyter using an IFrame. Do this by running the following code:\n"
   ]
  },
  {
   "cell_type": "code",
   "execution_count": null,
   "metadata": {
    "scrolled": true
   },
   "outputs": [],
   "source": [
    "from IPython.display import IFrame\n",
    "IFrame(src=url, height=800, width=800)\n",
    "#output cleared,to see run again"
   ]
  },
  {
   "cell_type": "code",
   "execution_count": 11,
   "metadata": {},
   "outputs": [],
   "source": [
    "url = 'http://www.python.org/'\n",
    "page = requests.get(url)"
   ]
  },
  {
   "cell_type": "code",
   "execution_count": 12,
   "metadata": {},
   "outputs": [],
   "source": [
    "page_html=page.text"
   ]
  },
  {
   "cell_type": "code",
   "execution_count": 13,
   "metadata": {},
   "outputs": [],
   "source": [
    "url=\"https://en.wikipedia.org/wiki/List_of_countries_by_central_bank_interest_rates\"\n",
    "page = requests.get(url)"
   ]
  },
  {
   "cell_type": "code",
   "execution_count": 14,
   "metadata": {},
   "outputs": [],
   "source": [
    "from bs4 import BeautifulSoup\n",
    "\n",
    "soup = BeautifulSoup(page.content, 'html.parser')"
   ]
  },
  {
   "cell_type": "code",
   "execution_count": 15,
   "metadata": {},
   "outputs": [],
   "source": [
    "h1=soup.findAll(\"h1\")"
   ]
  },
  {
   "cell_type": "code",
   "execution_count": 16,
   "metadata": {},
   "outputs": [],
   "source": [
    "h1=h1[0]\n"
   ]
  },
  {
   "cell_type": "code",
   "execution_count": 17,
   "metadata": {},
   "outputs": [
    {
     "data": {
      "text/plain": [
       "{'id': 'firstHeading', 'class': ['firstHeading'], 'lang': 'en'}"
      ]
     },
     "execution_count": 17,
     "metadata": {},
     "output_type": "execute_result"
    }
   ],
   "source": [
    "h1.attrs"
   ]
  },
  {
   "cell_type": "code",
   "execution_count": 18,
   "metadata": {},
   "outputs": [
    {
     "data": {
      "text/plain": [
       "'List of countries by central bank interest rates'"
      ]
     },
     "execution_count": 18,
     "metadata": {},
     "output_type": "execute_result"
    }
   ],
   "source": [
    "h1.text"
   ]
  },
  {
   "cell_type": "code",
   "execution_count": 19,
   "metadata": {},
   "outputs": [],
   "source": [
    "imgs=soup.findAll(\"img\")"
   ]
  },
  {
   "cell_type": "code",
   "execution_count": 20,
   "metadata": {},
   "outputs": [
    {
     "data": {
      "text/plain": [
       "92"
      ]
     },
     "execution_count": 20,
     "metadata": {},
     "output_type": "execute_result"
    }
   ],
   "source": [
    "len(imgs)"
   ]
  },
  {
   "cell_type": "code",
   "execution_count": 21,
   "metadata": {},
   "outputs": [],
   "source": [
    "body_content = soup.find('div', {'id': 'bodyContent'})"
   ]
  },
  {
   "cell_type": "code",
   "execution_count": 22,
   "metadata": {},
   "outputs": [],
   "source": [
    "table_headers = body_content.find_all('th')[:3]"
   ]
  },
  {
   "cell_type": "code",
   "execution_count": 23,
   "metadata": {},
   "outputs": [
    {
     "data": {
      "text/plain": [
       "[<th>Country or<br/>currency union</th>,\n",
       " <th>Central bank <br/> interest rate (%)</th>,\n",
       " <th>Date of last <br/> change\n",
       " </th>]"
      ]
     },
     "execution_count": 23,
     "metadata": {},
     "output_type": "execute_result"
    }
   ],
   "source": [
    "table_headers"
   ]
  },
  {
   "cell_type": "code",
   "execution_count": 24,
   "metadata": {},
   "outputs": [
    {
     "data": {
      "text/plain": [
       "['Country orcurrency union',\n",
       " 'Central bank  interest rate (%)',\n",
       " 'Date of last  change ']"
      ]
     },
     "execution_count": 24,
     "metadata": {},
     "output_type": "execute_result"
    }
   ],
   "source": [
    "table_headers = [element.get_text().replace('\\n', ' ')\n",
    "\n",
    "for element in table_headers]\n",
    "\n",
    "table_headers"
   ]
  },
  {
   "cell_type": "code",
   "execution_count": 25,
   "metadata": {},
   "outputs": [],
   "source": [
    "row_number = 2\n",
    "\n",
    "d1, d2, d3 = body_content.find_all('tr')[row_number].find_all('td')"
   ]
  },
  {
   "cell_type": "code",
   "execution_count": 26,
   "metadata": {},
   "outputs": [
    {
     "data": {
      "text/plain": [
       "'\\xa0Angola'"
      ]
     },
     "execution_count": 26,
     "metadata": {},
     "output_type": "execute_result"
    }
   ],
   "source": [
    "d1.text"
   ]
  },
  {
   "cell_type": "code",
   "execution_count": 27,
   "metadata": {},
   "outputs": [
    {
     "data": {
      "text/plain": [
       "'Angola'"
      ]
     },
     "execution_count": 27,
     "metadata": {},
     "output_type": "execute_result"
    }
   ],
   "source": [
    "d1.find(\"a\").text"
   ]
  },
  {
   "cell_type": "code",
   "execution_count": 28,
   "metadata": {},
   "outputs": [
    {
     "data": {
      "text/plain": [
       "<td><span data-sort-value=\"000000002019-05-24-0000\" style=\"white-space:nowrap\">24 May 2019</span><sup class=\"reference\" id=\"cite_ref-CentralBankNews_1-1\"><a href=\"#cite_note-CentralBankNews-1\">[1]</a></sup>\n",
       "</td>"
      ]
     },
     "execution_count": 28,
     "metadata": {},
     "output_type": "execute_result"
    }
   ],
   "source": [
    "d3"
   ]
  },
  {
   "cell_type": "code",
   "execution_count": 29,
   "metadata": {},
   "outputs": [
    {
     "data": {
      "text/plain": [
       "'24 May 2019'"
      ]
     },
     "execution_count": 29,
     "metadata": {},
     "output_type": "execute_result"
    }
   ],
   "source": [
    "d3.find(\"span\").text"
   ]
  },
  {
   "cell_type": "code",
   "execution_count": 30,
   "metadata": {},
   "outputs": [
    {
     "data": {
      "text/plain": [
       "<td>15.50</td>"
      ]
     },
     "execution_count": 30,
     "metadata": {},
     "output_type": "execute_result"
    }
   ],
   "source": [
    "d2"
   ]
  },
  {
   "cell_type": "code",
   "execution_count": 31,
   "metadata": {},
   "outputs": [
    {
     "data": {
      "text/plain": [
       "'15.50'"
      ]
     },
     "execution_count": 31,
     "metadata": {},
     "output_type": "execute_result"
    }
   ],
   "source": [
    "d2.text"
   ]
  },
  {
   "cell_type": "markdown",
   "metadata": {},
   "source": [
    "**To get all rows which have 3 data elements only into a list**"
   ]
  },
  {
   "cell_type": "code",
   "execution_count": 32,
   "metadata": {},
   "outputs": [
    {
     "name": "stdout",
     "output_type": "stream",
     "text": [
      "ignoring row 5 as exception occured\n",
      "ignoring row 10 as exception occured\n",
      "ignoring row 26 as exception occured\n"
     ]
    }
   ],
   "source": [
    "row=[]\n",
    "list1=[]\n",
    "row=body_content.find_all('tr')\n",
    "for i in range(len(row)):    \n",
    "    if(i>0):\n",
    "            data=[]\n",
    "            data=row[i].find_all(\"td\")\n",
    "            if(len(data)==3):\n",
    "                try:\n",
    "                    data1=[]\n",
    "                    data1.append(data[0].find(\"a\").text)\n",
    "                    data1.append(data[1].text)\n",
    "                    data1.append(data[2].find(\"span\").text)\n",
    "                    list1.append(data1)\n",
    "                except:\n",
    "                    print(\"ignoring row {} as exception occured\".format(i))\n",
    "\n"
   ]
  },
  {
   "cell_type": "code",
   "execution_count": 33,
   "metadata": {},
   "outputs": [
    {
     "name": "stdout",
     "output_type": "stream",
     "text": [
      "         name  value             date\n",
      "0     Albania   1.00      6 June 2016\n",
      "1      Angola  15.50      24 May 2019\n",
      "2   Argentina  58.00      1 July 2019\n",
      "3     Armenia   5.75  29 January 2019\n",
      "4  Azerbaijan   8.25     26 July 2019\n",
      "length of dataframe 90\n"
     ]
    }
   ],
   "source": [
    "df=pd.DataFrame(list1,columns = [\"name\",\"value\",\"date\"])\n",
    "print(df.head())\n",
    "print(\"length of dataframe {}\".format(len(df)))"
   ]
  },
  {
   "cell_type": "code",
   "execution_count": 34,
   "metadata": {},
   "outputs": [],
   "source": [
    "import os\n",
    "os.getcwd()\n",
    "os.chdir(r\"C:/Users/shars/OneDrive/Desktop\")"
   ]
  },
  {
   "cell_type": "markdown",
   "metadata": {},
   "source": [
    "**To write down the data into the csv file** (*\"-\" seperated file*)"
   ]
  },
  {
   "cell_type": "code",
   "execution_count": 35,
   "metadata": {},
   "outputs": [],
   "source": [
    "f_path = '..//interest-rates.csv'\n",
    "with open(f_path, 'w') as f:\n",
    "\n",
    "    f.write('{}-{}-{}\\n'.format(*table_headers)) \n",
    "    for d in list1:\n",
    "\n",
    "        f.write('{}-{}-{}\\n'.format(*d))"
   ]
  },
  {
   "cell_type": "code",
   "execution_count": 36,
   "metadata": {},
   "outputs": [
    {
     "data": {
      "text/plain": [
       "'C:\\\\Users\\\\shars\\\\OneDrive\\\\Desktop'"
      ]
     },
     "execution_count": 36,
     "metadata": {},
     "output_type": "execute_result"
    }
   ],
   "source": [
    "os.getcwd()"
   ]
  },
  {
   "cell_type": "code",
   "execution_count": 37,
   "metadata": {},
   "outputs": [],
   "source": [
    "with open(f_path, 'r') as f:\n",
    "\n",
    "    int_rates_col_names = next(f).split('-')\n",
    "\n",
    "    int_rates = [line.split('-') for line in f.read(). splitlines()]\n",
    "\n"
   ]
  },
  {
   "cell_type": "code",
   "execution_count": 38,
   "metadata": {},
   "outputs": [
    {
     "data": {
      "text/plain": [
       "['Country orcurrency union',\n",
       " 'Central bank  interest rate (%)',\n",
       " 'Date of last  change \\n']"
      ]
     },
     "execution_count": 38,
     "metadata": {},
     "output_type": "execute_result"
    }
   ],
   "source": [
    "(int_rates_col_names)"
   ]
  },
  {
   "cell_type": "code",
   "execution_count": 39,
   "metadata": {},
   "outputs": [
    {
     "data": {
      "text/plain": [
       "[['Albania', '1.00', '6 June 2016'],\n",
       " ['Angola', '15.50', '24 May 2019'],\n",
       " ['Argentina', '58.00', '1 July 2019'],\n",
       " ['Armenia', '5.75', '29 January 2019'],\n",
       " ['Azerbaijan', '8.25', '26 July 2019'],\n",
       " ['Bahamas', '4.00', '22 December 2016'],\n",
       " ['Bahrain', '2.50', '31 July 2019'],\n",
       " ['Bangladesh', '6.00', '6 April 2018'],\n",
       " ['Belarus', '10.00', '20 July 2018'],\n",
       " ['Botswana', '5.00', '24 October 2017'],\n",
       " ['Brazil', '6.00', '31 July 2019'],\n",
       " ['Bulgaria', '0.00', '29 January 2016'],\n",
       " ['Canada', '1.75', '24 October 2018'],\n",
       " ['Cape Verde', '3.50', '16 February 2015'],\n",
       " ['Central African States', '2.95', '22 March 2017'],\n",
       " ['Chile', '2.50', '8 May 2017'],\n",
       " ['China', '4.35', '23 October 2015'],\n",
       " ['Czech Republic', '2.00', '2 May 2019'],\n",
       " ['Colombia', '5.50', '27 July 2017'],\n",
       " ['DR Congo', '14.00', '14 January 2017'],\n",
       " ['Croatia', '3.00', '17 September 2017'],\n",
       " ['Denmark', '', '0.65', '7 January 2016'],\n",
       " ['Dominican Republic', '5.25', '31 July 2017'],\n",
       " ['Egypt', '16.75', '29 March 2018'],\n",
       " ['Eurozone', '0.00', '10 March 2016'],\n",
       " ['Fiji', '0.50', '2 November 2011'],\n",
       " ['Gambia', '20.00', '9 May 2017'],\n",
       " ['Georgia', '7.00', '2 May 2017'],\n",
       " ['Ghana', '20.00', '24 July 2017'],\n",
       " ['Hong Kong', '1.50', '15 June 2017'],\n",
       " ['Hungary', '0.90', '24 May 2016'],\n",
       " ['Iceland', '4.50', '14 June 2017'],\n",
       " ['India', '5.40', '7 August 2019'],\n",
       " ['Indonesia', '6.00', '15 November 2018'],\n",
       " ['Iran', '15.00', '22 August 2017'],\n",
       " ['Israel', '0.25', '26 November 2018'],\n",
       " ['Jamaica', '5.00', '21 May 2016'],\n",
       " ['Japan', '', '0.10', '29 January 2016'],\n",
       " ['Jordan', '3.75', '15 June 2017'],\n",
       " ['Kazakhstan', '9.00', '15 June 2017'],\n",
       " ['Kenya', '10.00', '20 September 2016'],\n",
       " ['Kuwait', '2.75', '15 March 2017'],\n",
       " ['Kyrgyzstan', '5.00', '27 December 2016'],\n",
       " ['Macedonia', '3.25', '15 February 2017'],\n",
       " ['Malawi', '18.00', '5 July 2017'],\n",
       " ['Malaysia', '3.00', '13 July 2016'],\n",
       " ['Mauritius', '4.00', '20 July 2016'],\n",
       " ['Mexico', '8.25', '27 January 2019'],\n",
       " ['Moldova', '8.00', '29 June 2017'],\n",
       " ['Mongolia', '11.00', '27 November 2018'],\n",
       " ['Morocco', '2.25', '22 March 2016'],\n",
       " ['Mozambique', '21.75', '15 April 2017'],\n",
       " ['Namibia', '7.00', '13 April 2016'],\n",
       " ['New Zealand', '1.00', '7 August 2019'],\n",
       " ['Nigeria', '14.00', '26 July 2016'],\n",
       " ['Norway', '1.25', '21 June 2019'],\n",
       " ['Pakistan', '13.25', '16 July 2019'],\n",
       " ['Paraguay', '5.50', '20 July 2016'],\n",
       " ['Peru', '3.75', '13 July 2017'],\n",
       " ['Philippines', '3.00', '3 June 2014'],\n",
       " ['Poland', '1.50', '4 March 2015'],\n",
       " ['Qatar', '5.00', '16 March 2017'],\n",
       " ['Romania', '2.50', '7 May 2018'],\n",
       " ['Russia', '7.25', '23 March 2018'],\n",
       " ['Rwanda', '6.00', '27 June 2017'],\n",
       " ['Samoa', '0.14', '1 July 2016'],\n",
       " ['Saudi Arabia', '2.00', '19 January 2009'],\n",
       " ['Serbia', '2.50', '8 August 2019'],\n",
       " ['Sierra Leone', '13.00', '15 June 2017'],\n",
       " ['South Africa', '6.75', '21 July 2017'],\n",
       " ['South Korea', '1.25', '9 June 2016'],\n",
       " ['Sri Lanka', '7.25', '23 March 2017'],\n",
       " ['Sweden', '', '0.25', '20 December 2018'],\n",
       " ['Switzerland', '', '0.75', '15 January 2015'],\n",
       " ['Taiwan', '1.375', '30 June 2016'],\n",
       " ['Tajikistan', '16.00', '20 March 2017'],\n",
       " ['Thailand', '1.50', '29 April 2015'],\n",
       " ['Trinidad and Tobago', '9.25', '28 September 2018'],\n",
       " ['Tunisia', '5.00', '24 May 2017'],\n",
       " ['Turkey', '19.75', '26 July 2019'],\n",
       " ['Uganda', '10.00', '19 June 2017'],\n",
       " ['Ukraine', '18.00', '7 September 2018'],\n",
       " ['UAE', '2.00', '14 June 2017'],\n",
       " ['United Kingdom', '0.75', '2 August 2018'],\n",
       " ['United States', '2.25', '31 July 2019'],\n",
       " ['Uruguay', '', '', '27 June 2013'],\n",
       " ['Uzbekistan', '16.00', '22 September 2018'],\n",
       " ['Vietnam', '6.25', '7 July 2017'],\n",
       " ['West African States', '2.50', '16 September 2013'],\n",
       " ['Zambia', '12.50', '17 May 2017']]"
      ]
     },
     "execution_count": 39,
     "metadata": {},
     "output_type": "execute_result"
    }
   ],
   "source": [
    "int_rates"
   ]
  },
  {
   "cell_type": "code",
   "execution_count": null,
   "metadata": {},
   "outputs": [],
   "source": []
  }
 ],
 "metadata": {
  "kernelspec": {
   "display_name": "Python 3",
   "language": "python",
   "name": "python3"
  },
  "language_info": {
   "codemirror_mode": {
    "name": "ipython",
    "version": 3
   },
   "file_extension": ".py",
   "mimetype": "text/x-python",
   "name": "python",
   "nbconvert_exporter": "python",
   "pygments_lexer": "ipython3",
   "version": "3.6.7"
  }
 },
 "nbformat": 4,
 "nbformat_minor": 2
}
